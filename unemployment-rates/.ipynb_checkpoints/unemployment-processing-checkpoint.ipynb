{
 "cells": [
  {
   "cell_type": "code",
   "execution_count": 6,
   "metadata": {},
   "outputs": [],
   "source": [
    "import pandas as pd\n",
    "import numpy as np\n",
    "import requests\n",
    "import json\n",
    "from pandas.io.json import json_normalize\n",
    "import geojson\n",
    "import geopandas as gpd\n",
    "from geopandas import GeoDataFrame"
   ]
  },
  {
   "cell_type": "code",
   "execution_count": 7,
   "metadata": {},
   "outputs": [],
   "source": [
    "# import counties file\n",
    "counties = gpd.read_file('../data/county-centroids.geojson')"
   ]
  },
  {
   "cell_type": "code",
   "execution_count": 8,
   "metadata": {},
   "outputs": [
    {
     "data": {
      "text/html": [
       "<div>\n",
       "<style scoped>\n",
       "    .dataframe tbody tr th:only-of-type {\n",
       "        vertical-align: middle;\n",
       "    }\n",
       "\n",
       "    .dataframe tbody tr th {\n",
       "        vertical-align: top;\n",
       "    }\n",
       "\n",
       "    .dataframe thead th {\n",
       "        text-align: right;\n",
       "    }\n",
       "</style>\n",
       "<table border=\"1\" class=\"dataframe\">\n",
       "  <thead>\n",
       "    <tr style=\"text-align: right;\">\n",
       "      <th></th>\n",
       "      <th>id</th>\n",
       "      <th>statefp</th>\n",
       "      <th>geoid</th>\n",
       "      <th>name</th>\n",
       "      <th>geometry</th>\n",
       "    </tr>\n",
       "  </thead>\n",
       "  <tbody>\n",
       "    <tr>\n",
       "      <th>0</th>\n",
       "      <td>00164f278d31eb5e97a1c5e2cbb92608</td>\n",
       "      <td>13</td>\n",
       "      <td>13235</td>\n",
       "      <td>Pulaski</td>\n",
       "      <td>POINT (-83.475499 32.233345)</td>\n",
       "    </tr>\n",
       "    <tr>\n",
       "      <th>1</th>\n",
       "      <td>022d7a3700648a595bd8285aa35ae666</td>\n",
       "      <td>13</td>\n",
       "      <td>13281</td>\n",
       "      <td>Towns</td>\n",
       "      <td>POINT (-83.741074 34.913691)</td>\n",
       "    </tr>\n",
       "    <tr>\n",
       "      <th>2</th>\n",
       "      <td>0360b68db2981446a57095b901207719</td>\n",
       "      <td>45</td>\n",
       "      <td>45087</td>\n",
       "      <td>Union</td>\n",
       "      <td>POINT (-81.61730300000001 34.688357)</td>\n",
       "    </tr>\n",
       "    <tr>\n",
       "      <th>3</th>\n",
       "      <td>053cb89c6060d5aa958684294e3364e5</td>\n",
       "      <td>13</td>\n",
       "      <td>13033</td>\n",
       "      <td>Burke</td>\n",
       "      <td>POINT (-81.999287 33.059179)</td>\n",
       "    </tr>\n",
       "    <tr>\n",
       "      <th>4</th>\n",
       "      <td>067efb8c52005dd403e0bd00c72ddbd8</td>\n",
       "      <td>13</td>\n",
       "      <td>13005</td>\n",
       "      <td>Bacon</td>\n",
       "      <td>POINT (-82.45936500000001 31.554564)</td>\n",
       "    </tr>\n",
       "  </tbody>\n",
       "</table>\n",
       "</div>"
      ],
      "text/plain": [
       "                                 id statefp  geoid     name  \\\n",
       "0  00164f278d31eb5e97a1c5e2cbb92608      13  13235  Pulaski   \n",
       "1  022d7a3700648a595bd8285aa35ae666      13  13281    Towns   \n",
       "2  0360b68db2981446a57095b901207719      45  45087    Union   \n",
       "3  053cb89c6060d5aa958684294e3364e5      13  13033    Burke   \n",
       "4  067efb8c52005dd403e0bd00c72ddbd8      13  13005    Bacon   \n",
       "\n",
       "                               geometry  \n",
       "0          POINT (-83.475499 32.233345)  \n",
       "1          POINT (-83.741074 34.913691)  \n",
       "2  POINT (-81.61730300000001 34.688357)  \n",
       "3          POINT (-81.999287 33.059179)  \n",
       "4  POINT (-82.45936500000001 31.554564)  "
      ]
     },
     "execution_count": 8,
     "metadata": {},
     "output_type": "execute_result"
    }
   ],
   "source": [
    "counties.head()"
   ]
  },
  {
   "cell_type": "code",
   "execution_count": null,
   "metadata": {
    "collapsed": true
   },
   "outputs": [],
   "source": []
  },
  {
   "cell_type": "code",
   "execution_count": 3,
   "metadata": {},
   "outputs": [],
   "source": [
    "headers = {'Content-type' : 'application/json'}"
   ]
  },
  {
   "cell_type": "code",
   "execution_count": 4,
   "metadata": {},
   "outputs": [],
   "source": [
    "key = '2075e7710bca44038c4abc07eecee9d5'"
   ]
  },
  {
   "cell_type": "code",
   "execution_count": null,
   "metadata": {},
   "outputs": [],
   "source": []
  }
 ],
 "metadata": {
  "kernelspec": {
   "display_name": "Python 3",
   "language": "python",
   "name": "python3"
  },
  "language_info": {
   "codemirror_mode": {
    "name": "ipython",
    "version": 3
   },
   "file_extension": ".py",
   "mimetype": "text/x-python",
   "name": "python",
   "nbconvert_exporter": "python",
   "pygments_lexer": "ipython3",
   "version": "3.6.0"
  }
 },
 "nbformat": 4,
 "nbformat_minor": 2
}
