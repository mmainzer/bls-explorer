{
 "cells": [
  {
   "cell_type": "code",
   "execution_count": 24,
   "metadata": {},
   "outputs": [],
   "source": [
    "import pandas as pd\n",
    "import numpy as np\n",
    "import requests\n",
    "import json\n",
    "from pandas.io.json import json_normalize\n",
    "import geojson\n",
    "import geopandas as gpd\n",
    "from geopandas import GeoDataFrame"
   ]
  },
  {
   "cell_type": "code",
   "execution_count": 25,
   "metadata": {},
   "outputs": [],
   "source": [
    "# import counties file\n",
    "counties = gpd.read_file('../data/county-centroids.geojson')\n",
    "counties = counties[['statefp','geoid','name']]"
   ]
  },
  {
   "cell_type": "code",
   "execution_count": 26,
   "metadata": {},
   "outputs": [],
   "source": [
    "# create series ID column for the request\n",
    "counties['laborForce'] = 'LAUCN' + counties.geoid + '0000000006'\n",
    "counties['employment'] = 'LAUCN' + counties.geoid + '0000000005'\n",
    "counties['unemployment'] = 'LAUCN' + counties.geoid + '0000000004'\n",
    "counties['unemploymentRate'] = 'LAUCN' + counties.geoid + '0000000003'"
   ]
  },
  {
   "cell_type": "code",
   "execution_count": 27,
   "metadata": {},
   "outputs": [],
   "source": [
    "# make seriesID a list\n",
    "laborSeries = counties['laborForce'].tolist()\n",
    "\n",
    "laborSeriesOne = laborSeries[0:50]\n",
    "laborSeriesTwo = laborSeries[50:100]\n",
    "laborSeriesThree = laborSeries[100:150]\n",
    "laborSeriesFour = laborSeries[150:200]\n",
    "laborSeriesFive = laborSeries[200:250]\n",
    "laborSeriesSix = laborSeries[250:]\n",
    "\n",
    "laborSeriesList = [laborSeriesOne,laborSeriesTwo,laborSeriesThree,laborSeriesFour,laborSeriesFive,laborSeriesSix]\n",
    "\n",
    "colHeaders = ['series id','month','year','labor force']\n",
    "\n",
    "link = 'https://api.bls.gov/publicAPI/v2/timeseries/data/'\n",
    "headers = {'Content-type': 'application/json'}\n",
    "rows = []\n",
    "\n",
    "for laborSeries in laborSeriesList:\n",
    "    data = json.dumps({\"seriesid\": laborSeries, \"startyear\":\"2019\", \"endyear\":\"2019\", \"registrationkey\":\"2075e7710bca44038c4abc07eecee9d5\"})\n",
    "\n",
    "    p = requests.post(link, data=data, headers=headers)\n",
    "\n",
    "    jsonData = json.loads(p.text)\n",
    "\n",
    "    for series in jsonData['Results']['series']:\n",
    "        seriesId = series['seriesID']\n",
    "        for item in series['data']:\n",
    "            row=[]\n",
    "            year = item['year']\n",
    "            periodName = item['periodName']\n",
    "            value = item['value']\n",
    "            row.append(seriesId)\n",
    "            row.append(periodName)\n",
    "            row.append(year)\n",
    "            row.append(value)\n",
    "            rows.append(row)\n",
    "            \n",
    "laborForceFrame = pd.DataFrame(rows,columns=colHeaders)\n",
    "\n",
    "laborForceFrame = laborForceFrame.loc[laborForceFrame['month'] == 'November']\n",
    "\n",
    "laborForceFrame = laborForceFrame[['series id','labor force']]\n",
    "\n",
    "laborForceFrame['geoid'] = laborForceFrame['series id'].str[5:10]"
   ]
  },
  {
   "cell_type": "code",
   "execution_count": 28,
   "metadata": {},
   "outputs": [],
   "source": [
    "# make seriesID a list\n",
    "employmentSeries = counties['employment'].tolist()\n",
    "\n",
    "employmentSeriesOne = employmentSeries[0:50]\n",
    "employmentSeriesTwo = employmentSeries[50:100]\n",
    "employmentSeriesThree = employmentSeries[100:150]\n",
    "employmentSeriesFour = employmentSeries[150:200]\n",
    "employmentSeriesFive = employmentSeries[200:250]\n",
    "employmentSeriesSix = employmentSeries[250:]\n",
    "\n",
    "employmentSeriesList = [employmentSeriesOne,employmentSeriesTwo,employmentSeriesThree,employmentSeriesFour,employmentSeriesFive,employmentSeriesSix]\n",
    "\n",
    "colHeaders = ['series id','month','year','employment']\n",
    "\n",
    "link = 'https://api.bls.gov/publicAPI/v2/timeseries/data/'\n",
    "headers = {'Content-type': 'application/json'}\n",
    "rows = []\n",
    "\n",
    "for employmentSeries in employmentSeriesList:\n",
    "    data = json.dumps({\"seriesid\": employmentSeries, \"startyear\":\"2019\", \"endyear\":\"2019\", \"registrationkey\":\"2075e7710bca44038c4abc07eecee9d5\"})\n",
    "\n",
    "    p = requests.post(link, data=data, headers=headers)\n",
    "\n",
    "    jsonData = json.loads(p.text)\n",
    "\n",
    "    for series in jsonData['Results']['series']:\n",
    "        seriesId = series['seriesID']\n",
    "        for item in series['data']:\n",
    "            row=[]\n",
    "            year = item['year']\n",
    "            periodName = item['periodName']\n",
    "            value = item['value']\n",
    "            row.append(seriesId)\n",
    "            row.append(periodName)\n",
    "            row.append(year)\n",
    "            row.append(value)\n",
    "            rows.append(row)\n",
    "            \n",
    "employmentFrame = pd.DataFrame(rows,columns=colHeaders)\n",
    "\n",
    "employmentFrame = employmentFrame.loc[employmentFrame['month'] == 'November']\n",
    "\n",
    "employmentFrame = employmentFrame[['series id','employment']]\n",
    "\n",
    "employmentFrame['geoid'] = employmentFrame['series id'].str[5:10]"
   ]
  },
  {
   "cell_type": "code",
   "execution_count": 29,
   "metadata": {},
   "outputs": [],
   "source": [
    "# make seriesID a list\n",
    "unemploymentSeries = counties['unemployment'].tolist()\n",
    "\n",
    "unemploymentSeriesOne = unemploymentSeries[0:50]\n",
    "unemploymentSeriesTwo = unemploymentSeries[50:100]\n",
    "unemploymentSeriesThree = unemploymentSeries[100:150]\n",
    "unemploymentSeriesFour = unemploymentSeries[150:200]\n",
    "unemploymentSeriesFive = unemploymentSeries[200:250]\n",
    "unemploymentSeriesSix = unemploymentSeries[250:]\n",
    "\n",
    "unemploymentSeriesList = [unemploymentSeriesOne,unemploymentSeriesTwo,unemploymentSeriesThree,unemploymentSeriesFour,unemploymentSeriesFive,unemploymentSeriesSix]\n",
    "\n",
    "colHeaders = ['series id','month','year','unemployment']\n",
    "\n",
    "link = 'https://api.bls.gov/publicAPI/v2/timeseries/data/'\n",
    "headers = {'Content-type': 'application/json'}\n",
    "rows = []\n",
    "\n",
    "for unemploymentSeries in unemploymentSeriesList:\n",
    "    data = json.dumps({\"seriesid\": unemploymentSeries, \"startyear\":\"2019\", \"endyear\":\"2019\", \"registrationkey\":\"2075e7710bca44038c4abc07eecee9d5\"})\n",
    "\n",
    "    p = requests.post(link, data=data, headers=headers)\n",
    "\n",
    "    jsonData = json.loads(p.text)\n",
    "\n",
    "    for series in jsonData['Results']['series']:\n",
    "        seriesId = series['seriesID']\n",
    "        for item in series['data']:\n",
    "            row=[]\n",
    "            year = item['year']\n",
    "            periodName = item['periodName']\n",
    "            value = item['value']\n",
    "            row.append(seriesId)\n",
    "            row.append(periodName)\n",
    "            row.append(year)\n",
    "            row.append(value)\n",
    "            rows.append(row)\n",
    "            \n",
    "unemploymentFrame = pd.DataFrame(rows,columns=colHeaders)\n",
    "\n",
    "unemploymentFrame = unemploymentFrame.loc[unemploymentFrame['month'] == 'November']\n",
    "\n",
    "unemploymentFrame = unemploymentFrame[['series id','unemployment']]\n",
    "\n",
    "unemploymentFrame['geoid'] = unemploymentFrame['series id'].str[5:10]"
   ]
  },
  {
   "cell_type": "code",
   "execution_count": 30,
   "metadata": {},
   "outputs": [],
   "source": [
    "# make seriesID a list\n",
    "rateSeries = counties['unemploymentRate'].tolist()\n",
    "\n",
    "rateSeriesOne = rateSeries[0:50]\n",
    "rateSeriesTwo = rateSeries[50:100]\n",
    "rateSeriesThree = rateSeries[100:150]\n",
    "rateSeriesFour = rateSeries[150:200]\n",
    "rateSeriesFive = rateSeries[200:250]\n",
    "rateSeriesSix = rateSeries[250:]\n",
    "\n",
    "rateSeriesList = [rateSeriesOne,rateSeriesTwo,rateSeriesThree,rateSeriesFour,rateSeriesFive,rateSeriesSix]\n",
    "\n",
    "colHeaders = ['series id','month','year','unemploymentRate']\n",
    "\n",
    "link = 'https://api.bls.gov/publicAPI/v2/timeseries/data/'\n",
    "headers = {'Content-type': 'application/json'}\n",
    "rows = []\n",
    "\n",
    "for rateSeries in rateSeriesList:\n",
    "    data = json.dumps({\"seriesid\": rateSeries, \"startyear\":\"2019\", \"endyear\":\"2019\", \"registrationkey\":\"2075e7710bca44038c4abc07eecee9d5\"})\n",
    "\n",
    "    p = requests.post(link, data=data, headers=headers)\n",
    "\n",
    "    jsonData = json.loads(p.text)\n",
    "\n",
    "    for series in jsonData['Results']['series']:\n",
    "        seriesId = series['seriesID']\n",
    "        for item in series['data']:\n",
    "            row=[]\n",
    "            year = item['year']\n",
    "            periodName = item['periodName']\n",
    "            value = item['value']\n",
    "            row.append(seriesId)\n",
    "            row.append(periodName)\n",
    "            row.append(year)\n",
    "            row.append(value)\n",
    "            rows.append(row)\n",
    "            \n",
    "rateFrame = pd.DataFrame(rows,columns=colHeaders)\n",
    "\n",
    "rateFrame = rateFrame.loc[rateFrame['month'] == 'November']\n",
    "\n",
    "rateFrame = rateFrame[['series id','unemploymentRate']]\n",
    "\n",
    "rateFrame['geoid'] = rateFrame['series id'].str[5:10]"
   ]
  },
  {
   "cell_type": "code",
   "execution_count": 31,
   "metadata": {},
   "outputs": [
    {
     "name": "stdout",
     "output_type": "stream",
     "text": [
      "(270, 3)\n",
      "(270, 3)\n",
      "(270, 3)\n",
      "(270, 3)\n"
     ]
    }
   ],
   "source": [
    "print(rateFrame.shape)\n",
    "print(unemploymentFrame.shape)\n",
    "print(employmentFrame.shape)\n",
    "print(laborForceFrame.shape)"
   ]
  },
  {
   "cell_type": "code",
   "execution_count": 32,
   "metadata": {},
   "outputs": [],
   "source": [
    "counties = counties[['statefp','geoid','name']]"
   ]
  },
  {
   "cell_type": "code",
   "execution_count": 33,
   "metadata": {},
   "outputs": [],
   "source": [
    "df = pd.merge(counties, rateFrame, how='left', on='geoid')"
   ]
  },
  {
   "cell_type": "code",
   "execution_count": 34,
   "metadata": {},
   "outputs": [],
   "source": [
    "df = pd.merge(df, unemploymentFrame, how='left', on='geoid')"
   ]
  },
  {
   "cell_type": "code",
   "execution_count": 35,
   "metadata": {},
   "outputs": [],
   "source": [
    "df = pd.merge(df, employmentFrame, how='left', on='geoid')"
   ]
  },
  {
   "cell_type": "code",
   "execution_count": 36,
   "metadata": {},
   "outputs": [],
   "source": [
    "df = pd.merge(df, laborForceFrame, how='left', on='geoid')"
   ]
  },
  {
   "cell_type": "code",
   "execution_count": 37,
   "metadata": {},
   "outputs": [],
   "source": [
    "df = df[['geoid','unemployment','labor force']]"
   ]
  },
  {
   "cell_type": "code",
   "execution_count": 38,
   "metadata": {},
   "outputs": [],
   "source": [
    "countyPoints = gpd.read_file('../data/county-centroids.geojson')\n",
    "countyPoints = countyPoints[['statefp','geoid','name','geometry']]\n",
    "countyPolygons = gpd.read_file('../data/county-polygons.geojson')\n",
    "countyPolygons = countyPolygons[['statefp','geoid','name','geometry']]"
   ]
  },
  {
   "cell_type": "code",
   "execution_count": 39,
   "metadata": {},
   "outputs": [],
   "source": [
    "countyPoints = pd.merge(countyPoints, df, how='left', on='geoid')\n",
    "countyPolygons = pd.merge(countyPolygons, df, how='left', on='geoid')"
   ]
  },
  {
   "cell_type": "code",
   "execution_count": 40,
   "metadata": {},
   "outputs": [],
   "source": [
    "countyPoints = countyPoints[['geoid','statefp','name','unemployment','labor force','geometry']]\n",
    "countyPolygons = countyPolygons[['geoid','statefp','name','unemployment','labor force','geometry']]"
   ]
  },
  {
   "cell_type": "code",
   "execution_count": 41,
   "metadata": {},
   "outputs": [],
   "source": [
    "countyPoints['unemployment'] = countyPoints['unemployment'].astype(int)\n",
    "countyPoints['labor force'] = countyPoints['labor force'].astype(int)\n",
    "countyPolygons['unemployment'] = countyPolygons['unemployment'].astype(int)\n",
    "countyPolygons['labor force'] = countyPolygons['labor force'].astype(int)"
   ]
  },
  {
   "cell_type": "code",
   "execution_count": 42,
   "metadata": {},
   "outputs": [],
   "source": [
    "countyPoints.to_file('../data/county-centroids.geojson', driver=\"GeoJSON\")"
   ]
  },
  {
   "cell_type": "code",
   "execution_count": 43,
   "metadata": {},
   "outputs": [],
   "source": [
    "countyPolygons.to_file('../data/county-polygons.geojson', driver=\"GeoJSON\")"
   ]
  },
  {
   "cell_type": "code",
   "execution_count": null,
   "metadata": {},
   "outputs": [],
   "source": []
  }
 ],
 "metadata": {
  "kernelspec": {
   "display_name": "Python 3",
   "language": "python",
   "name": "python3"
  },
  "language_info": {
   "codemirror_mode": {
    "name": "ipython",
    "version": 3
   },
   "file_extension": ".py",
   "mimetype": "text/x-python",
   "name": "python",
   "nbconvert_exporter": "python",
   "pygments_lexer": "ipython3",
   "version": "3.6.0"
  }
 },
 "nbformat": 4,
 "nbformat_minor": 2
}
